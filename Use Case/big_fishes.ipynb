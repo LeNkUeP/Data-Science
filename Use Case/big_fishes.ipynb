{
 "cells": [
  {
   "cell_type": "code",
   "execution_count": 20,
   "metadata": {},
   "outputs": [],
   "source": [
    "import pandas as pd"
   ]
  },
  {
   "cell_type": "code",
   "execution_count": 21,
   "metadata": {},
   "outputs": [
    {
     "name": "stdout",
     "output_type": "stream",
     "text": [
      "           host id     score host name  calculated host listings count   price\n",
      "78198  75670762826  1119.688       Kaz                           322.0  1169.0\n",
      "24933  24018604959  1082.680       Kaz                           322.0  1132.0\n",
      "28438  27445218777  1073.280      Rawn                             6.0  1195.0\n",
      "23135  22278210133  1054.200     Byron                             6.0  1185.0\n",
      "12271  11689016852  1053.660   Andrzej                             2.0  1177.0\n",
      "74669  72235878844  1048.400    Sonder                           192.0  1154.0\n",
      "33814  32502622332  1041.792      Brik                             2.0  1172.0\n",
      "65569  63405539422  1040.616     Karen                            18.0  1162.0\n",
      "65432  63234218406  1038.228      Luis                             8.0  1144.0\n",
      "54071  52111041287  1035.000    Sonder                           192.0  1114.0\n",
      "1084\n",
      "             id                                              NAME  \\\n",
      "0       1001254                Clean & quiet apt home by the park   \n",
      "1       1002102                             Skylit Midtown Castle   \n",
      "2       1002403               THE VILLAGE OF HARLEM....NEW YORK !   \n",
      "3       1002755                                               NaN   \n",
      "4       1003689  Entire Apt: Spacious Studio/Loft by central park   \n",
      "...         ...                                               ...   \n",
      "102594  6092437                        Spare room in Williamsburg   \n",
      "102595  6092990                     Best Location near Columbia U   \n",
      "102596  6093542                    Comfy, bright room in Brooklyn   \n",
      "102597  6094094                  Big Studio-One Stop from Midtown   \n",
      "102598  6094647                              585 sf Luxury Studio   \n",
      "\n",
      "            host id host_identity_verified    host name neighbourhood group  \\\n",
      "0       80014485718            unconfirmed     Madaline            Brooklyn   \n",
      "1       52335172823               verified        Jenna           Manhattan   \n",
      "2       78829239556                    NaN        Elise           Manhattan   \n",
      "3       85098326012            unconfirmed        Garry            Brooklyn   \n",
      "4       92037596077               verified       Lyndon           Manhattan   \n",
      "...             ...                    ...          ...                 ...   \n",
      "102594  12312296767               verified         Krik            Brooklyn   \n",
      "102595  77864383453            unconfirmed        Mifan           Manhattan   \n",
      "102596  69050334417            unconfirmed        Megan            Brooklyn   \n",
      "102597  11160591270            unconfirmed  Christopher              Queens   \n",
      "102598  68170633372            unconfirmed      Rebecca           Manhattan   \n",
      "\n",
      "              neighbourhood       lat      long        country  ...  \\\n",
      "0                Kensington  40.64749 -73.97237  United States  ...   \n",
      "1                   Midtown  40.75362 -73.98377  United States  ...   \n",
      "2                    Harlem  40.80902 -73.94190  United States  ...   \n",
      "3              Clinton Hill  40.68514 -73.95976  United States  ...   \n",
      "4               East Harlem  40.79851 -73.94399  United States  ...   \n",
      "...                     ...       ...       ...            ...  ...   \n",
      "102594         Williamsburg  40.70862 -73.94651  United States  ...   \n",
      "102595  Morningside Heights  40.80460 -73.96545  United States  ...   \n",
      "102596           Park Slope  40.67505 -73.98045  United States  ...   \n",
      "102597     Long Island City  40.74989 -73.93777  United States  ...   \n",
      "102598      Upper West Side  40.76807 -73.98342  United States  ...   \n",
      "\n",
      "       minimum nights number of reviews last review reviews per month  \\\n",
      "0                10.0               9.0  10/19/2021              0.21   \n",
      "1                30.0              45.0   5/21/2022              0.38   \n",
      "2                 3.0               0.0         NaN              0.00   \n",
      "3                30.0             270.0    7/5/2019              4.64   \n",
      "4                10.0               9.0  11/19/2018              0.10   \n",
      "...               ...               ...         ...               ...   \n",
      "102594            1.0               0.0         NaN              0.00   \n",
      "102595            1.0               1.0    7/6/2015              0.02   \n",
      "102596            3.0               0.0         NaN              0.00   \n",
      "102597            2.0               5.0  10/11/2015              0.10   \n",
      "102598            1.0               0.0         NaN              0.00   \n",
      "\n",
      "        review rate number  calculated host listings count  availability 365  \\\n",
      "0                      4.0                             6.0             286.0   \n",
      "1                      4.0                             2.0             228.0   \n",
      "2                      5.0                             1.0             352.0   \n",
      "3                      4.0                             1.0             322.0   \n",
      "4                      3.0                             1.0             289.0   \n",
      "...                    ...                             ...               ...   \n",
      "102594                 3.0                             1.0             227.0   \n",
      "102595                 2.0                             2.0             395.0   \n",
      "102596                 5.0                             1.0             342.0   \n",
      "102597                 3.0                             1.0             386.0   \n",
      "102598                 3.0                             1.0              69.0   \n",
      "\n",
      "                                              house_rules  license    score  \n",
      "0       Clean up and treat the home the way you'd like...      NaN  435.668  \n",
      "1       Pet friendly but please confirm with me if the...      NaN   83.104  \n",
      "2       I encourage you to use my kitchen, cooking and...      NaN  295.800  \n",
      "3                                                     NaN      NaN  190.712  \n",
      "4       Please no smoking in the house, porch or on th...      NaN  114.860  \n",
      "...                                                   ...      ...      ...  \n",
      "102594  No Smoking No Parties or Events of any kind Pl...      NaN  377.400  \n",
      "102595  House rules: Guests agree to the following ter...      NaN  391.408  \n",
      "102596                                                NaN      NaN  449.400  \n",
      "102597                                                NaN      NaN  268.160  \n",
      "102598                                                NaN      NaN  440.500  \n",
      "\n",
      "[102599 rows x 27 columns]\n"
     ]
    }
   ],
   "source": [
    "# Beispielhafte Daten einlesen (ersetzen Sie 'Airbnb_Open_Data.csv' durch den Pfad zu Ihrer CSV-Datei)\n",
    "data = pd.read_csv('Airbnb_Open_Data.csv', low_memory=False)\n",
    "\n",
    "# Überprüfen Sie die ersten Zeilen des DataFrames, um sicherzustellen, dass die Spalten korrekt eingelesen wurden\n",
    "#print(data.head())\n",
    "\n",
    "# Funktion zum Bereinigen von Preis- und Gebühren-Spalten (entfernt '$' und konvertiert in float)\n",
    "def clean_currency(column):\n",
    "    return column.replace({'\\$': '', ',': ''}, regex=True).astype(float)\n",
    "\n",
    "# Bereinigung und Konvertierung der relevanten Spalten in numerische Typen\n",
    "data['price'] = clean_currency(data['price'])\n",
    "data['service fee'] = clean_currency(data['service fee'])\n",
    "data['reviews per month'] = pd.to_numeric(data['reviews per month'], errors='coerce')\n",
    "data['review rate number'] = pd.to_numeric(data['review rate number'], errors='coerce')\n",
    "data['calculated host listings count'] = pd.to_numeric(data['calculated host listings count'], errors='coerce')\n",
    "data['availability 365'] = pd.to_numeric(data['availability 365'], errors='coerce')\n",
    "\n",
    "# Ersetzen Sie fehlende Werte durch 0 oder einen geeigneten Wert\n",
    "numeric_columns = ['price', 'service fee', 'reviews per month', 'review rate number', 'calculated host listings count', 'availability 365']\n",
    "for column in numeric_columns:\n",
    "    data[column] = data[column].fillna(0)\n",
    "\n",
    "# Überprüfen Sie die Datentypen, um sicherzustellen, dass die Konvertierung erfolgreich war\n",
    "#print(data.dtypes)\n",
    "\n",
    "# Berechnung des Scores für jeden Eintrag im Datensatz\n",
    "def calculate_score(row):\n",
    "    # Gewichtung Faktoren\n",
    "    alpha = 0.4\n",
    "    beta = 0.1\n",
    "    gamma = 0.2\n",
    "    delta = 0.2\n",
    "    epsilon = 0.1\n",
    "    \n",
    "    price = row['price']\n",
    "    service_fee = row['service fee']\n",
    "    reviews_per_month = row['reviews per month']\n",
    "    review_rate_number = row['review rate number']\n",
    "    calculated_host_listings_count = row['calculated host listings count']\n",
    "    availability_365 = row['availability 365']\n",
    "    \n",
    "    # Berechnung des Scores\n",
    "    score = (alpha * price + \n",
    "             beta * service_fee + \n",
    "             gamma * (reviews_per_month * review_rate_number) + \n",
    "             delta * calculated_host_listings_count + \n",
    "             epsilon * availability_365)\n",
    "    return score\n",
    "\n",
    "# Anwendung der Scoring-Funktion auf den Datensatz\n",
    "data['score'] = data.apply(calculate_score, axis=1)\n",
    "\n",
    "# Aggregation der Scores pro Host\n",
    "host_scores = data.groupby('host id').agg({\n",
    "    'score': 'sum',\n",
    "    'host name': 'first',\n",
    "    'calculated host listings count': 'sum',\n",
    "    'price': 'mean'\n",
    "}).reset_index()\n",
    "\n",
    "# Sortierung der Hosts nach dem aggregierten Score\n",
    "host_scores = host_scores.sort_values(by='score', ascending=False)\n",
    "\n",
    "# Top 10 Hosts ausgeben\n",
    "top_hosts = host_scores.head(10)\n",
    "print(top_hosts)\n",
    "\n",
    "\n",
    "# Zähle die Häufigkeit jeder host id\n",
    "host_id_counts = data['host id'].value_counts()\n",
    "\n",
    "# Filtere die host id's, die mehr als einmal vorkommen\n",
    "duplicate_host_ids = host_id_counts[host_id_counts > 1]\n",
    "\n",
    "# Anzahl der doppelten host id's\n",
    "num_duplicate_host_ids = len(duplicate_host_ids)\n",
    "print(len(data.groupby('host id').filter(lambda x : x['host id'].shape[0]>=2)))\n",
    "print(data)\n",
    "#print(f\"Anzahl der doppelten host ids: {num_duplicate_host_ids}\")\n"
   ]
  },
  {
   "cell_type": "code",
   "execution_count": 33,
   "metadata": {},
   "outputs": [
    {
     "name": "stdout",
     "output_type": "stream",
     "text": [
      "    latitude  longitude        money     name\n",
      "0  40.719525 -73.854137  1176.480176     Theo\n",
      "1  40.786076 -73.985553   979.074421     Mara\n",
      "2  40.741105 -73.965978   607.627298      Eva\n",
      "3  40.717953 -73.787202   958.582094  Lennart\n",
      "4  40.669462 -74.214482   230.101868   Marius\n",
      "5  40.758358 -74.206435   803.913123     Will\n",
      "6  40.675035 -74.239891   257.688616  Lennart\n",
      "7  40.856709 -73.833690  1139.135809     Alex\n",
      "8  40.885465 -73.860922   674.033154     Alex\n",
      "9  40.653377 -73.814994   556.128134     Ralf\n"
     ]
    },
    {
     "data": {
      "application/vnd.plotly.v1+json": {
       "config": {
        "plotlyServerURL": "https://plot.ly"
       },
       "data": [
        {
         "hovertemplate": "name=Theo<br>money=%{marker.size}<br>latitude=%{lat}<br>longitude=%{lon}<extra></extra>",
         "lat": [
          40.71952540157093
         ],
         "legendgroup": "Theo",
         "lon": [
          -73.85413748095867
         ],
         "marker": {
          "color": "#636efa",
          "size": [
           1176.4801764560405
          ],
          "sizemode": "area",
          "sizeref": 1.3072001960622672
         },
         "mode": "markers",
         "name": "Theo",
         "showlegend": true,
         "subplot": "mapbox",
         "type": "scattermapbox"
        },
        {
         "hovertemplate": "name=Mara<br>money=%{marker.size}<br>latitude=%{lat}<br>longitude=%{lon}<extra></extra>",
         "lat": [
          40.78607574654897
         ],
         "legendgroup": "Mara",
         "lon": [
          -73.98555254012355
         ],
         "marker": {
          "color": "#EF553B",
          "size": [
           979.074420638396
          ],
          "sizemode": "area",
          "sizeref": 1.3072001960622672
         },
         "mode": "markers",
         "name": "Mara",
         "showlegend": true,
         "subplot": "mapbox",
         "type": "scattermapbox"
        },
        {
         "hovertemplate": "name=Eva<br>money=%{marker.size}<br>latitude=%{lat}<br>longitude=%{lon}<extra></extra>",
         "lat": [
          40.741105350428654
         ],
         "legendgroup": "Eva",
         "lon": [
          -73.96597771945304
         ],
         "marker": {
          "color": "#00cc96",
          "size": [
           607.627298478225
          ],
          "sizemode": "area",
          "sizeref": 1.3072001960622672
         },
         "mode": "markers",
         "name": "Eva",
         "showlegend": true,
         "subplot": "mapbox",
         "type": "scattermapbox"
        },
        {
         "hovertemplate": "name=Lennart<br>money=%{marker.size}<br>latitude=%{lat}<br>longitude=%{lon}<extra></extra>",
         "lat": [
          40.71795327319876,
          40.675034884505074
         ],
         "legendgroup": "Lennart",
         "lon": [
          -73.78720168085367,
          -74.23989080127984
         ],
         "marker": {
          "color": "#ab63fa",
          "size": [
           958.582093915101,
           257.68861614995103
          ],
          "sizemode": "area",
          "sizeref": 1.3072001960622672
         },
         "mode": "markers",
         "name": "Lennart",
         "showlegend": true,
         "subplot": "mapbox",
         "type": "scattermapbox"
        },
        {
         "hovertemplate": "name=Marius<br>money=%{marker.size}<br>latitude=%{lat}<br>longitude=%{lon}<extra></extra>",
         "lat": [
          40.66946191973556
         ],
         "legendgroup": "Marius",
         "lon": [
          -74.21448197090106
         ],
         "marker": {
          "color": "#FFA15A",
          "size": [
           230.10186845582655
          ],
          "sizemode": "area",
          "sizeref": 1.3072001960622672
         },
         "mode": "markers",
         "name": "Marius",
         "showlegend": true,
         "subplot": "mapbox",
         "type": "scattermapbox"
        },
        {
         "hovertemplate": "name=Will<br>money=%{marker.size}<br>latitude=%{lat}<br>longitude=%{lon}<extra></extra>",
         "lat": [
          40.75835764522666
         ],
         "legendgroup": "Will",
         "lon": [
          -74.20643535014923
         ],
         "marker": {
          "color": "#19d3f3",
          "size": [
           803.9131234602762
          ],
          "sizemode": "area",
          "sizeref": 1.3072001960622672
         },
         "mode": "markers",
         "name": "Will",
         "showlegend": true,
         "subplot": "mapbox",
         "type": "scattermapbox"
        },
        {
         "hovertemplate": "name=Alex<br>money=%{marker.size}<br>latitude=%{lat}<br>longitude=%{lon}<extra></extra>",
         "lat": [
          40.85670920031283,
          40.885465104200414
         ],
         "legendgroup": "Alex",
         "lon": [
          -73.83369007722604,
          -73.86092162452508
         ],
         "marker": {
          "color": "#FF6692",
          "size": [
           1139.1358087545423,
           674.0331539250789
          ],
          "sizemode": "area",
          "sizeref": 1.3072001960622672
         },
         "mode": "markers",
         "name": "Alex",
         "showlegend": true,
         "subplot": "mapbox",
         "type": "scattermapbox"
        },
        {
         "hovertemplate": "name=Ralf<br>money=%{marker.size}<br>latitude=%{lat}<br>longitude=%{lon}<extra></extra>",
         "lat": [
          40.65337660753031
         ],
         "legendgroup": "Ralf",
         "lon": [
          -73.81499392587659
         ],
         "marker": {
          "color": "#B6E880",
          "size": [
           556.1281339895759
          ],
          "sizemode": "area",
          "sizeref": 1.3072001960622672
         },
         "mode": "markers",
         "name": "Ralf",
         "showlegend": true,
         "subplot": "mapbox",
         "type": "scattermapbox"
        }
       ],
       "layout": {
        "height": 600,
        "legend": {
         "itemsizing": "constant",
         "title": {
          "text": "name"
         },
         "tracegroupgap": 0
        },
        "mapbox": {
         "center": {
          "lat": 40.74630651332582,
          "lon": -73.97632831713467
         },
         "domain": {
          "x": [
           0,
           1
          ],
          "y": [
           0,
           1
          ]
         },
         "style": "open-street-map",
         "zoom": 9
        },
        "margin": {
         "t": 60
        },
        "template": {
         "data": {
          "bar": [
           {
            "error_x": {
             "color": "#2a3f5f"
            },
            "error_y": {
             "color": "#2a3f5f"
            },
            "marker": {
             "line": {
              "color": "#E5ECF6",
              "width": 0.5
             },
             "pattern": {
              "fillmode": "overlay",
              "size": 10,
              "solidity": 0.2
             }
            },
            "type": "bar"
           }
          ],
          "barpolar": [
           {
            "marker": {
             "line": {
              "color": "#E5ECF6",
              "width": 0.5
             },
             "pattern": {
              "fillmode": "overlay",
              "size": 10,
              "solidity": 0.2
             }
            },
            "type": "barpolar"
           }
          ],
          "carpet": [
           {
            "aaxis": {
             "endlinecolor": "#2a3f5f",
             "gridcolor": "white",
             "linecolor": "white",
             "minorgridcolor": "white",
             "startlinecolor": "#2a3f5f"
            },
            "baxis": {
             "endlinecolor": "#2a3f5f",
             "gridcolor": "white",
             "linecolor": "white",
             "minorgridcolor": "white",
             "startlinecolor": "#2a3f5f"
            },
            "type": "carpet"
           }
          ],
          "choropleth": [
           {
            "colorbar": {
             "outlinewidth": 0,
             "ticks": ""
            },
            "type": "choropleth"
           }
          ],
          "contour": [
           {
            "colorbar": {
             "outlinewidth": 0,
             "ticks": ""
            },
            "colorscale": [
             [
              0,
              "#0d0887"
             ],
             [
              0.1111111111111111,
              "#46039f"
             ],
             [
              0.2222222222222222,
              "#7201a8"
             ],
             [
              0.3333333333333333,
              "#9c179e"
             ],
             [
              0.4444444444444444,
              "#bd3786"
             ],
             [
              0.5555555555555556,
              "#d8576b"
             ],
             [
              0.6666666666666666,
              "#ed7953"
             ],
             [
              0.7777777777777778,
              "#fb9f3a"
             ],
             [
              0.8888888888888888,
              "#fdca26"
             ],
             [
              1,
              "#f0f921"
             ]
            ],
            "type": "contour"
           }
          ],
          "contourcarpet": [
           {
            "colorbar": {
             "outlinewidth": 0,
             "ticks": ""
            },
            "type": "contourcarpet"
           }
          ],
          "heatmap": [
           {
            "colorbar": {
             "outlinewidth": 0,
             "ticks": ""
            },
            "colorscale": [
             [
              0,
              "#0d0887"
             ],
             [
              0.1111111111111111,
              "#46039f"
             ],
             [
              0.2222222222222222,
              "#7201a8"
             ],
             [
              0.3333333333333333,
              "#9c179e"
             ],
             [
              0.4444444444444444,
              "#bd3786"
             ],
             [
              0.5555555555555556,
              "#d8576b"
             ],
             [
              0.6666666666666666,
              "#ed7953"
             ],
             [
              0.7777777777777778,
              "#fb9f3a"
             ],
             [
              0.8888888888888888,
              "#fdca26"
             ],
             [
              1,
              "#f0f921"
             ]
            ],
            "type": "heatmap"
           }
          ],
          "heatmapgl": [
           {
            "colorbar": {
             "outlinewidth": 0,
             "ticks": ""
            },
            "colorscale": [
             [
              0,
              "#0d0887"
             ],
             [
              0.1111111111111111,
              "#46039f"
             ],
             [
              0.2222222222222222,
              "#7201a8"
             ],
             [
              0.3333333333333333,
              "#9c179e"
             ],
             [
              0.4444444444444444,
              "#bd3786"
             ],
             [
              0.5555555555555556,
              "#d8576b"
             ],
             [
              0.6666666666666666,
              "#ed7953"
             ],
             [
              0.7777777777777778,
              "#fb9f3a"
             ],
             [
              0.8888888888888888,
              "#fdca26"
             ],
             [
              1,
              "#f0f921"
             ]
            ],
            "type": "heatmapgl"
           }
          ],
          "histogram": [
           {
            "marker": {
             "pattern": {
              "fillmode": "overlay",
              "size": 10,
              "solidity": 0.2
             }
            },
            "type": "histogram"
           }
          ],
          "histogram2d": [
           {
            "colorbar": {
             "outlinewidth": 0,
             "ticks": ""
            },
            "colorscale": [
             [
              0,
              "#0d0887"
             ],
             [
              0.1111111111111111,
              "#46039f"
             ],
             [
              0.2222222222222222,
              "#7201a8"
             ],
             [
              0.3333333333333333,
              "#9c179e"
             ],
             [
              0.4444444444444444,
              "#bd3786"
             ],
             [
              0.5555555555555556,
              "#d8576b"
             ],
             [
              0.6666666666666666,
              "#ed7953"
             ],
             [
              0.7777777777777778,
              "#fb9f3a"
             ],
             [
              0.8888888888888888,
              "#fdca26"
             ],
             [
              1,
              "#f0f921"
             ]
            ],
            "type": "histogram2d"
           }
          ],
          "histogram2dcontour": [
           {
            "colorbar": {
             "outlinewidth": 0,
             "ticks": ""
            },
            "colorscale": [
             [
              0,
              "#0d0887"
             ],
             [
              0.1111111111111111,
              "#46039f"
             ],
             [
              0.2222222222222222,
              "#7201a8"
             ],
             [
              0.3333333333333333,
              "#9c179e"
             ],
             [
              0.4444444444444444,
              "#bd3786"
             ],
             [
              0.5555555555555556,
              "#d8576b"
             ],
             [
              0.6666666666666666,
              "#ed7953"
             ],
             [
              0.7777777777777778,
              "#fb9f3a"
             ],
             [
              0.8888888888888888,
              "#fdca26"
             ],
             [
              1,
              "#f0f921"
             ]
            ],
            "type": "histogram2dcontour"
           }
          ],
          "mesh3d": [
           {
            "colorbar": {
             "outlinewidth": 0,
             "ticks": ""
            },
            "type": "mesh3d"
           }
          ],
          "parcoords": [
           {
            "line": {
             "colorbar": {
              "outlinewidth": 0,
              "ticks": ""
             }
            },
            "type": "parcoords"
           }
          ],
          "pie": [
           {
            "automargin": true,
            "type": "pie"
           }
          ],
          "scatter": [
           {
            "fillpattern": {
             "fillmode": "overlay",
             "size": 10,
             "solidity": 0.2
            },
            "type": "scatter"
           }
          ],
          "scatter3d": [
           {
            "line": {
             "colorbar": {
              "outlinewidth": 0,
              "ticks": ""
             }
            },
            "marker": {
             "colorbar": {
              "outlinewidth": 0,
              "ticks": ""
             }
            },
            "type": "scatter3d"
           }
          ],
          "scattercarpet": [
           {
            "marker": {
             "colorbar": {
              "outlinewidth": 0,
              "ticks": ""
             }
            },
            "type": "scattercarpet"
           }
          ],
          "scattergeo": [
           {
            "marker": {
             "colorbar": {
              "outlinewidth": 0,
              "ticks": ""
             }
            },
            "type": "scattergeo"
           }
          ],
          "scattergl": [
           {
            "marker": {
             "colorbar": {
              "outlinewidth": 0,
              "ticks": ""
             }
            },
            "type": "scattergl"
           }
          ],
          "scattermapbox": [
           {
            "marker": {
             "colorbar": {
              "outlinewidth": 0,
              "ticks": ""
             }
            },
            "type": "scattermapbox"
           }
          ],
          "scatterpolar": [
           {
            "marker": {
             "colorbar": {
              "outlinewidth": 0,
              "ticks": ""
             }
            },
            "type": "scatterpolar"
           }
          ],
          "scatterpolargl": [
           {
            "marker": {
             "colorbar": {
              "outlinewidth": 0,
              "ticks": ""
             }
            },
            "type": "scatterpolargl"
           }
          ],
          "scatterternary": [
           {
            "marker": {
             "colorbar": {
              "outlinewidth": 0,
              "ticks": ""
             }
            },
            "type": "scatterternary"
           }
          ],
          "surface": [
           {
            "colorbar": {
             "outlinewidth": 0,
             "ticks": ""
            },
            "colorscale": [
             [
              0,
              "#0d0887"
             ],
             [
              0.1111111111111111,
              "#46039f"
             ],
             [
              0.2222222222222222,
              "#7201a8"
             ],
             [
              0.3333333333333333,
              "#9c179e"
             ],
             [
              0.4444444444444444,
              "#bd3786"
             ],
             [
              0.5555555555555556,
              "#d8576b"
             ],
             [
              0.6666666666666666,
              "#ed7953"
             ],
             [
              0.7777777777777778,
              "#fb9f3a"
             ],
             [
              0.8888888888888888,
              "#fdca26"
             ],
             [
              1,
              "#f0f921"
             ]
            ],
            "type": "surface"
           }
          ],
          "table": [
           {
            "cells": {
             "fill": {
              "color": "#EBF0F8"
             },
             "line": {
              "color": "white"
             }
            },
            "header": {
             "fill": {
              "color": "#C8D4E3"
             },
             "line": {
              "color": "white"
             }
            },
            "type": "table"
           }
          ]
         },
         "layout": {
          "annotationdefaults": {
           "arrowcolor": "#2a3f5f",
           "arrowhead": 0,
           "arrowwidth": 1
          },
          "autotypenumbers": "strict",
          "coloraxis": {
           "colorbar": {
            "outlinewidth": 0,
            "ticks": ""
           }
          },
          "colorscale": {
           "diverging": [
            [
             0,
             "#8e0152"
            ],
            [
             0.1,
             "#c51b7d"
            ],
            [
             0.2,
             "#de77ae"
            ],
            [
             0.3,
             "#f1b6da"
            ],
            [
             0.4,
             "#fde0ef"
            ],
            [
             0.5,
             "#f7f7f7"
            ],
            [
             0.6,
             "#e6f5d0"
            ],
            [
             0.7,
             "#b8e186"
            ],
            [
             0.8,
             "#7fbc41"
            ],
            [
             0.9,
             "#4d9221"
            ],
            [
             1,
             "#276419"
            ]
           ],
           "sequential": [
            [
             0,
             "#0d0887"
            ],
            [
             0.1111111111111111,
             "#46039f"
            ],
            [
             0.2222222222222222,
             "#7201a8"
            ],
            [
             0.3333333333333333,
             "#9c179e"
            ],
            [
             0.4444444444444444,
             "#bd3786"
            ],
            [
             0.5555555555555556,
             "#d8576b"
            ],
            [
             0.6666666666666666,
             "#ed7953"
            ],
            [
             0.7777777777777778,
             "#fb9f3a"
            ],
            [
             0.8888888888888888,
             "#fdca26"
            ],
            [
             1,
             "#f0f921"
            ]
           ],
           "sequentialminus": [
            [
             0,
             "#0d0887"
            ],
            [
             0.1111111111111111,
             "#46039f"
            ],
            [
             0.2222222222222222,
             "#7201a8"
            ],
            [
             0.3333333333333333,
             "#9c179e"
            ],
            [
             0.4444444444444444,
             "#bd3786"
            ],
            [
             0.5555555555555556,
             "#d8576b"
            ],
            [
             0.6666666666666666,
             "#ed7953"
            ],
            [
             0.7777777777777778,
             "#fb9f3a"
            ],
            [
             0.8888888888888888,
             "#fdca26"
            ],
            [
             1,
             "#f0f921"
            ]
           ]
          },
          "colorway": [
           "#636efa",
           "#EF553B",
           "#00cc96",
           "#ab63fa",
           "#FFA15A",
           "#19d3f3",
           "#FF6692",
           "#B6E880",
           "#FF97FF",
           "#FECB52"
          ],
          "font": {
           "color": "#2a3f5f"
          },
          "geo": {
           "bgcolor": "white",
           "lakecolor": "white",
           "landcolor": "#E5ECF6",
           "showlakes": true,
           "showland": true,
           "subunitcolor": "white"
          },
          "hoverlabel": {
           "align": "left"
          },
          "hovermode": "closest",
          "mapbox": {
           "style": "light"
          },
          "paper_bgcolor": "white",
          "plot_bgcolor": "#E5ECF6",
          "polar": {
           "angularaxis": {
            "gridcolor": "white",
            "linecolor": "white",
            "ticks": ""
           },
           "bgcolor": "#E5ECF6",
           "radialaxis": {
            "gridcolor": "white",
            "linecolor": "white",
            "ticks": ""
           }
          },
          "scene": {
           "xaxis": {
            "backgroundcolor": "#E5ECF6",
            "gridcolor": "white",
            "gridwidth": 2,
            "linecolor": "white",
            "showbackground": true,
            "ticks": "",
            "zerolinecolor": "white"
           },
           "yaxis": {
            "backgroundcolor": "#E5ECF6",
            "gridcolor": "white",
            "gridwidth": 2,
            "linecolor": "white",
            "showbackground": true,
            "ticks": "",
            "zerolinecolor": "white"
           },
           "zaxis": {
            "backgroundcolor": "#E5ECF6",
            "gridcolor": "white",
            "gridwidth": 2,
            "linecolor": "white",
            "showbackground": true,
            "ticks": "",
            "zerolinecolor": "white"
           }
          },
          "shapedefaults": {
           "line": {
            "color": "#2a3f5f"
           }
          },
          "ternary": {
           "aaxis": {
            "gridcolor": "white",
            "linecolor": "white",
            "ticks": ""
           },
           "baxis": {
            "gridcolor": "white",
            "linecolor": "white",
            "ticks": ""
           },
           "bgcolor": "#E5ECF6",
           "caxis": {
            "gridcolor": "white",
            "linecolor": "white",
            "ticks": ""
           }
          },
          "title": {
           "x": 0.05
          },
          "xaxis": {
           "automargin": true,
           "gridcolor": "white",
           "linecolor": "white",
           "ticks": "",
           "title": {
            "standoff": 15
           },
           "zerolinecolor": "white",
           "zerolinewidth": 2
          },
          "yaxis": {
           "automargin": true,
           "gridcolor": "white",
           "linecolor": "white",
           "ticks": "",
           "title": {
            "standoff": 15
           },
           "zerolinecolor": "white",
           "zerolinewidth": 2
          }
         }
        },
        "width": 1200
       }
      }
     },
     "metadata": {},
     "output_type": "display_data"
    }
   ],
   "source": [
    "import pandas as pd\n",
    "import numpy as np\n",
    "import plotly.express as px\n",
    "\n",
    "names = [\"Alex\", \"Ramin\", \"Lennart\", \"Theo\", \"Ralf\", \"Luca\", \"Annika\", \"Marius\", \"Kuz\", \"Charlie\", \"Alice\", \"Eva\", \"Will\", \"Hannah\", \"Mara\", \"Aaron\"]\n",
    "styles = ['open-street-map','white-bg','carto-positron','carto-darkmatter','stamen-terrain','stamen-toner']\n",
    "\n",
    "# dummy\n",
    "np.random.seed(0)\n",
    "data = {\n",
    "    'latitude': np.random.uniform(40.5, 40.9, 10),\n",
    "    'longitude': np.random.uniform(-74.25, -73.75, 10),\n",
    "    'money': np.random.uniform(100, 1200, 10),\n",
    "    'name': np.random.choice(names, 10)\n",
    "}\n",
    "df = pd.DataFrame(data)\n",
    "print(df)\n",
    "\n",
    "px.scatter_mapbox(df, \n",
    "                  lat = 'latitude', \n",
    "                  lon = 'longitude', \n",
    "                  mapbox_style=styles[0],\n",
    "                  width = 1200,\n",
    "                  height=600,\n",
    "                  zoom=9,\n",
    "                  color='name',\n",
    "                  size = 'money', size_max=30)"
   ]
  }
 ],
 "metadata": {
  "kernelspec": {
   "display_name": "Python 3",
   "language": "python",
   "name": "python3"
  },
  "language_info": {
   "codemirror_mode": {
    "name": "ipython",
    "version": 3
   },
   "file_extension": ".py",
   "mimetype": "text/x-python",
   "name": "python",
   "nbconvert_exporter": "python",
   "pygments_lexer": "ipython3",
   "version": "3.11.9"
  }
 },
 "nbformat": 4,
 "nbformat_minor": 2
}
